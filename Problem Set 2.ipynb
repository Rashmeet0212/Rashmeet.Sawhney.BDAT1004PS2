{
 "cells": [
  {
   "cell_type": "markdown",
   "id": "f8baf94b",
   "metadata": {},
   "source": [
    "# NAME - RASHMEET SINGH SAWHNEY\n",
    "# STUDENT ID - 200506934"
   ]
  },
  {
   "cell_type": "markdown",
   "id": "3eddf435",
   "metadata": {},
   "source": [
    "# QUESTION 1"
   ]
  },
  {
   "cell_type": "markdown",
   "id": "27d0c297",
   "metadata": {},
   "source": [
    "The following code when executed gives the output 6 , means that the value of a=6 after the function b() is executed thrice.\n",
    "When the function is executed for the first time , the value of a is made global and on calling the fucntion c() into a , value 2 is added to a which makes a=2 . When this process happens for the second time , the value of a is now 2 and not 0 , hence it will make it 4 and 6 in the third execution ."
   ]
  },
  {
   "cell_type": "code",
   "execution_count": 12,
   "id": "d20c7891",
   "metadata": {},
   "outputs": [
    {
     "data": {
      "text/plain": [
       "6"
      ]
     },
     "execution_count": 12,
     "metadata": {},
     "output_type": "execute_result"
    }
   ],
   "source": [
    "a = 0\n",
    "def b():\n",
    "    global a\n",
    "    a = c(a)\n",
    "def c(a):\n",
    "    return a + 2\n",
    "b() #returns value 2 \n",
    "b() #returns 2+2 , i.e 4\n",
    "b() #returns 4+2 , i.e 6\n",
    "a # the value a will get after execution is 6\n"
   ]
  },
  {
   "cell_type": "markdown",
   "id": "ea3a6e70",
   "metadata": {},
   "source": [
    "# QUESTION 2"
   ]
  },
  {
   "cell_type": "markdown",
   "id": "1c358926",
   "metadata": {},
   "source": [
    "File pbset2 contains the text \"Problem Set 2 Data Programming\""
   ]
  },
  {
   "cell_type": "code",
   "execution_count": 6,
   "id": "f216cac5",
   "metadata": {},
   "outputs": [
    {
     "name": "stdout",
     "output_type": "stream",
     "text": [
      "31\n",
      "File C:\\Users\\hp\\OneDrive\\Desktop\\pbset.txt not found \n"
     ]
    }
   ],
   "source": [
    "def file_length(file):\n",
    "    try:\n",
    "        with open(file,'r') as a:\n",
    "            contents = a.read()\n",
    "            print(len(contents))\n",
    "    except: \n",
    "        print(\"File \" + file + \" not found \")\n",
    "file_length('C:\\\\Users\\\\hp\\\\OneDrive\\\\Desktop\\\\pbset2.txt')\n",
    "file_length('C:\\\\Users\\\\hp\\\\OneDrive\\\\Desktop\\\\pbset.txt')"
   ]
  },
  {
   "cell_type": "markdown",
   "id": "22d2ca58",
   "metadata": {},
   "source": [
    "# QUESTION 3"
   ]
  },
  {
   "cell_type": "code",
   "execution_count": 120,
   "id": "e6da9f02",
   "metadata": {},
   "outputs": [
    {
     "data": {
      "text/plain": [
       "['doll', 'firetruck', 'kitten']"
      ]
     },
     "execution_count": 120,
     "metadata": {},
     "output_type": "execute_result"
    }
   ],
   "source": [
    "class Marsupial:\n",
    "    def __init__(self):\n",
    "        self.pouch=[] #declaring a list called pouch\n",
    "    def put_in_pouch(self,item):\n",
    "        self.pouch.append(item) #appending items to list pouch\n",
    "    def pouch_contents(self):\n",
    "        return self.pouch\n",
    "m = Marsupial()\n",
    "m.put_in_pouch('doll')\n",
    "m.put_in_pouch('firetruck')\n",
    "m.put_in_pouch('kitten')\n",
    "m.pouch_contents()\n",
    "\n"
   ]
  },
  {
   "cell_type": "code",
   "execution_count": 121,
   "id": "8c75ac97",
   "metadata": {},
   "outputs": [
    {
     "name": "stdout",
     "output_type": "stream",
     "text": [
      "I am a Kangaroo located at cordinates (0,0)\n",
      "I am a Kangaroo located at cordinates (3,0)\n"
     ]
    },
    {
     "data": {
      "text/plain": [
       "['doll', 'firetruck', 'kitten']"
      ]
     },
     "execution_count": 121,
     "metadata": {},
     "output_type": "execute_result"
    }
   ],
   "source": [
    "class Kangaroo(Marsupial):  #sub class of class Marsupial\n",
    "    def __init__(self,x,y):\n",
    "        Marsupial.__init__(self) #inheriting features of class Marsupial\n",
    "        self.x=x\n",
    "        self.y=y\n",
    "    def jump(self,dx,dy):\n",
    "        self.x+=dx\n",
    "        self.y+=dy\n",
    "    def __str__(self):\n",
    "        return\"I am a Kangaroo located at cordinates ({0},{1})\".format(self.x,self.y)\n",
    "k = Kangaroo(0,0)\n",
    "print(k)\n",
    "\n",
    "k.jump(1,0)\n",
    "k.jump(1,0)\n",
    "k.jump(1,0)\n",
    "print(k)\n",
    "\n",
    "k.put_in_pouch('doll')\n",
    "k.put_in_pouch('firetruck')\n",
    "k.put_in_pouch('kitten')\n",
    "k.pouch_contents()\n",
    "\n"
   ]
  },
  {
   "cell_type": "markdown",
   "id": "9bb72901",
   "metadata": {},
   "source": [
    "# QUESTION 4"
   ]
  },
  {
   "cell_type": "code",
   "execution_count": 2,
   "id": "02a8be6c",
   "metadata": {},
   "outputs": [
    {
     "name": "stdout",
     "output_type": "stream",
     "text": [
      "10\n",
      "5.0\n",
      "16.0\n",
      "8.0\n",
      "4.0\n",
      "2.0\n",
      "1.0\n"
     ]
    },
    {
     "data": {
      "text/plain": [
       "1"
      ]
     },
     "execution_count": 2,
     "metadata": {},
     "output_type": "execute_result"
    }
   ],
   "source": [
    "def collatz(x):\n",
    "    if x==1:\n",
    "        return 1 ;\n",
    "    elif (x % 2) == 0:\n",
    "        print (x/2)\n",
    "        return collatz(x/2) ;\n",
    "    else:\n",
    "        print (3*x+1)\n",
    "        return collatz((3*x)+1) ;\n",
    "a=int(input())\n",
    "collatz(a)\n"
   ]
  },
  {
   "cell_type": "markdown",
   "id": "40691b5c",
   "metadata": {},
   "source": [
    "# QUESTION 5"
   ]
  },
  {
   "cell_type": "code",
   "execution_count": 20,
   "id": "313dfc37",
   "metadata": {},
   "outputs": [
    {
     "name": "stdout",
     "output_type": "stream",
     "text": [
      "0\n",
      "1\n",
      "11\n",
      "1001\n"
     ]
    }
   ],
   "source": [
    "def binary(x):\n",
    "    if x <= 0 :\n",
    "        return 0\n",
    "    else:\n",
    "        return x%2 + 10*binary(x//2)\n",
    "print(binary(0))\n",
    "print(binary(1))\n",
    "print(binary(3))\n",
    "print(binary(9))\n",
    "\n",
    "\n",
    "\n",
    "\n"
   ]
  },
  {
   "cell_type": "markdown",
   "id": "95818939",
   "metadata": {},
   "source": [
    "# QUESTION 6"
   ]
  },
  {
   "cell_type": "code",
   "execution_count": 58,
   "id": "78a516ae",
   "metadata": {},
   "outputs": [
    {
     "name": "stdout",
     "output_type": "stream",
     "text": [
      "W3C Mission\n",
      "\tPrinciples\n",
      " \n",
      "\n",
      "\n",
      "\n"
     ]
    }
   ],
   "source": [
    "from html.parser import HTMLParser\n",
    "\n",
    "class HeadingParser(HTMLParser):\n",
    "    def __init__(self):\n",
    "        HTMLParser.__init__(self)\n",
    "        self.tag=''\n",
    "    def handle_starttag(self, tag, attrs):   \n",
    "        self.tag = tag\n",
    "    def handle_data(self,data): \n",
    "        a = ['h1','h2','h3','h4','h5','h6']\n",
    "        if self.tag in a:\n",
    "                n=int(self.tag[1])\n",
    "                print(n*\"\"+data,end='')\n",
    "infile = open('C:\\\\Users\\\\hp\\\\OneDrive\\\\Desktop\\\\w3c.html','r')  \n",
    "content = infile.read()\n",
    "infile.close()\n",
    "\n",
    "parser = HeadingParser()\n",
    "parser.feed(content)"
   ]
  },
  {
   "cell_type": "markdown",
   "id": "119a38a2",
   "metadata": {},
   "source": [
    "# QUESTION 7"
   ]
  },
  {
   "cell_type": "markdown",
   "id": "0457de97",
   "metadata": {},
   "source": [
    "Question 7 could not be solved as the concept of URL parsing was not clear in the lecture , tried with the code given in lecture but there were many errors ."
   ]
  },
  {
   "cell_type": "markdown",
   "id": "2ed184c0",
   "metadata": {},
   "source": [
    "# QUESTION 8"
   ]
  },
  {
   "cell_type": "markdown",
   "id": "4dd60634",
   "metadata": {},
   "source": [
    "Creating a connection with sql server and inserting all the values into the table as following :"
   ]
  },
  {
   "cell_type": "code",
   "execution_count": 3,
   "id": "5bf54778",
   "metadata": {},
   "outputs": [
    {
     "data": {
      "text/plain": [
       "<sqlite3.Cursor at 0x2813a221a40>"
      ]
     },
     "execution_count": 3,
     "metadata": {},
     "output_type": "execute_result"
    }
   ],
   "source": [
    "import sqlite3\n",
    "Connection=sqlite3.connect('AreaWeathers.db')\n",
    "cursor_conn=Connection.cursor()\n",
    "\n",
    "cursor_conn.execute(\"Create table Weathers(city text, country text, season text, temperature float, rainfall float)\")\n",
    "cursor_conn.execute(\"INSERT INTO Weathers VALUES ('Mumbai','India', 'Winter', 24.8, 5.9)\")\n",
    "cursor_conn.execute(\"INSERT INTO Weathers VALUES ('Mumbai','India', 'Spring', 28.4, 16.2)\")\n",
    "cursor_conn.execute(\"INSERT INTO Weathers VALUES ('Mumbai','India', 'Summer', 27.9, 1549.4)\")\n",
    "cursor_conn.execute(\"INSERT INTO Weathers VALUES ('Mumbai','India', 'Fall', 27.6, 346.0)\")\n",
    "cursor_conn.execute(\"INSERT INTO Weathers VALUES ('London','United Kingdom', 'Winter', 4.2, 207.7)\")\n",
    "cursor_conn.execute(\"INSERT INTO Weathers VALUES ('London','United Kingdom', 'Spring', 8.3, 169.6)\")\n",
    "cursor_conn.execute(\"INSERT INTO Weathers VALUES ('London','United Kingdom', 'Summer', 15.7, 157.0)\")\n",
    "cursor_conn.execute(\"INSERT INTO Weathers VALUES ('London','United Kingdom', 'Fall', 10.4, 218.5)\")\n",
    "cursor_conn.execute(\"INSERT INTO Weathers VALUES ('Cairo','Egypt', 'Winter', 13.6, 16.5)\")\n",
    "cursor_conn.execute(\"INSERT INTO Weathers VALUES ('Cairo','Egypt', 'Spring', 20.7, 6.5)\")\n",
    "cursor_conn.execute(\"INSERT INTO Weathers VALUES ('Cairo','Egypt', 'Summer', 27.7, 0.1)\")\n",
    "cursor_conn.execute(\"INSERT INTO Weathers VALUES ('Cairo','Egypt', 'Fall', 22.2, 4.5)\")\n",
    "\n",
    "#cursor_conn.execute(\"Select * from Weathers \")\n",
    "#for i in cursor_conn:\n",
    "   # print(cursor_conn)"
   ]
  },
  {
   "cell_type": "markdown",
   "id": "d890fa01",
   "metadata": {},
   "source": [
    "# 8a"
   ]
  },
  {
   "cell_type": "code",
   "execution_count": 15,
   "id": "3cc06443",
   "metadata": {},
   "outputs": [
    {
     "name": "stdout",
     "output_type": "stream",
     "text": [
      "24.8\n",
      "28.4\n",
      "27.9\n",
      "27.6\n",
      "4.2\n",
      "8.3\n",
      "15.7\n",
      "10.4\n",
      "13.6\n",
      "20.7\n",
      "27.7\n",
      "22.2\n"
     ]
    }
   ],
   "source": [
    "cursor_conn.execute(\"Select temperature from Weathers\")\n",
    "#print(cursor_conn.fetchall())\n",
    "for i in cursor_conn:\n",
    "    print(i[0])"
   ]
  },
  {
   "cell_type": "markdown",
   "id": "80280fff",
   "metadata": {},
   "source": [
    "# 8b"
   ]
  },
  {
   "cell_type": "code",
   "execution_count": 16,
   "id": "c7884da6",
   "metadata": {},
   "outputs": [
    {
     "name": "stdout",
     "output_type": "stream",
     "text": [
      "Mumbai\n",
      "London\n",
      "Cairo\n"
     ]
    }
   ],
   "source": [
    "cursor_conn.execute(\"Select DISTINCT city from Weathers\")\n",
    "#print(cursor_conn.fetchall())\n",
    "for i in cursor_conn:\n",
    "    print(i[0])"
   ]
  },
  {
   "cell_type": "markdown",
   "id": "b26c3b25",
   "metadata": {},
   "source": [
    "# 8c"
   ]
  },
  {
   "cell_type": "code",
   "execution_count": 18,
   "id": "5029fee3",
   "metadata": {},
   "outputs": [
    {
     "name": "stdout",
     "output_type": "stream",
     "text": [
      "('Mumbai', 'India', 'Winter', 24.8, 5.9)\n",
      "('Mumbai', 'India', 'Spring', 28.4, 16.2)\n",
      "('Mumbai', 'India', 'Summer', 27.9, 1549.4)\n",
      "('Mumbai', 'India', 'Fall', 27.6, 346.0)\n"
     ]
    }
   ],
   "source": [
    "cursor_conn.execute(\"Select * from Weathers where country = 'India'\")\n",
    "#print(cursor_conn.fetchall())\n",
    "for i in cursor_conn:\n",
    "    print(i)"
   ]
  },
  {
   "cell_type": "markdown",
   "id": "df32a924",
   "metadata": {},
   "source": [
    "# 8d"
   ]
  },
  {
   "cell_type": "code",
   "execution_count": 21,
   "id": "53ee7784",
   "metadata": {},
   "outputs": [
    {
     "name": "stdout",
     "output_type": "stream",
     "text": [
      "('Mumbai', 'India', 'Fall', 27.6, 346.0)\n",
      "('London', 'United Kingdom', 'Fall', 10.4, 218.5)\n",
      "('Cairo', 'Egypt', 'Fall', 22.2, 4.5)\n"
     ]
    }
   ],
   "source": [
    "cursor_conn.execute(\"Select * from Weathers where season = 'Fall'\")\n",
    "#print(cursor_conn.fetchall())\n",
    "for i in cursor_conn:\n",
    "    print(i)"
   ]
  },
  {
   "cell_type": "markdown",
   "id": "e4d69f61",
   "metadata": {},
   "source": [
    "# 8e"
   ]
  },
  {
   "cell_type": "code",
   "execution_count": 22,
   "id": "beb19741",
   "metadata": {},
   "outputs": [
    {
     "name": "stdout",
     "output_type": "stream",
     "text": [
      "('Mumbai', 'India', 'Fall', 346.0)\n",
      "('London', 'United Kingdom', 'Winter', 207.7)\n",
      "('London', 'United Kingdom', 'Fall', 218.5)\n"
     ]
    }
   ],
   "source": [
    "cursor_conn.execute(\"Select city,country,season,rainfall from Weathers where rainfall > 200 and rainfall < 400\")\n",
    "#print(cursor_conn.fetchall())\n",
    "for i in cursor_conn:\n",
    "    print(i)"
   ]
  },
  {
   "cell_type": "markdown",
   "id": "c89720e2",
   "metadata": {},
   "source": [
    "# 8f"
   ]
  },
  {
   "cell_type": "code",
   "execution_count": 23,
   "id": "5168dfc6",
   "metadata": {},
   "outputs": [
    {
     "name": "stdout",
     "output_type": "stream",
     "text": [
      "('Cairo', 'Egypt', 20.7)\n",
      "('Cairo', 'Egypt', 22.2)\n",
      "('Mumbai', 'India', 24.8)\n",
      "('Mumbai', 'India', 27.6)\n",
      "('Cairo', 'Egypt', 27.7)\n",
      "('Mumbai', 'India', 27.9)\n",
      "('Mumbai', 'India', 28.4)\n"
     ]
    }
   ],
   "source": [
    "cursor_conn.execute(\"Select city,country,temperature from Weathers where temperature > 20 ORDER BY temperature\")\n",
    "#print(cursor_conn.fetchall())\n",
    "for i in cursor_conn:\n",
    "    print(i)"
   ]
  },
  {
   "cell_type": "markdown",
   "id": "fd1ff700",
   "metadata": {},
   "source": [
    "# 8g"
   ]
  },
  {
   "cell_type": "code",
   "execution_count": 25,
   "id": "1f806214",
   "metadata": {},
   "outputs": [
    {
     "name": "stdout",
     "output_type": "stream",
     "text": [
      "('Cairo', 27.6)\n"
     ]
    }
   ],
   "source": [
    "cursor_conn.execute(\"Select city , SUM(rainfall) as totalrainfall from Weathers where city = 'Cairo'\")\n",
    "#print(cursor_conn.fetchall())\n",
    "for i in cursor_conn:\n",
    "    print(i)"
   ]
  },
  {
   "cell_type": "markdown",
   "id": "09c02421",
   "metadata": {},
   "source": [
    "# 8h"
   ]
  },
  {
   "cell_type": "code",
   "execution_count": 26,
   "id": "25d7410b",
   "metadata": {},
   "outputs": [
    {
     "name": "stdout",
     "output_type": "stream",
     "text": [
      "('Fall', 569.0)\n",
      "('Spring', 192.29999999999998)\n",
      "('Summer', 1706.5)\n",
      "('Winter', 230.1)\n"
     ]
    }
   ],
   "source": [
    "cursor_conn.execute(\"Select season , SUM(rainfall) from Weathers GROUP BY season\")\n",
    "#print(cursor_conn.fetchall())\n",
    "for i in cursor_conn:\n",
    "    print(i)"
   ]
  },
  {
   "cell_type": "markdown",
   "id": "da7666d6",
   "metadata": {},
   "source": [
    "# QUESTION 9a"
   ]
  },
  {
   "cell_type": "code",
   "execution_count": 3,
   "id": "db661e80",
   "metadata": {},
   "outputs": [
    {
     "data": {
      "text/plain": [
       "['THE', 'QUICK', 'BROWN', 'FOX', 'JUMPS', 'OVER', 'THE', 'LAZY', 'DOG']"
      ]
     },
     "execution_count": 3,
     "metadata": {},
     "output_type": "execute_result"
    }
   ],
   "source": [
    "words = ['The', 'quick', 'brown', 'fox', 'jumps', 'over',\n",
    "'the', 'lazy', 'dog']\n",
    "newwords = [i.upper() for i in words]\n",
    "newwords"
   ]
  },
  {
   "cell_type": "markdown",
   "id": "a31bbd34",
   "metadata": {},
   "source": [
    "# QUESTION 9b"
   ]
  },
  {
   "cell_type": "code",
   "execution_count": 4,
   "id": "7127964b",
   "metadata": {},
   "outputs": [
    {
     "data": {
      "text/plain": [
       "['the', 'quick', 'brown', 'fox', 'jumps', 'over', 'the', 'lazy', 'dog']"
      ]
     },
     "execution_count": 4,
     "metadata": {},
     "output_type": "execute_result"
    }
   ],
   "source": [
    "words = ['The', 'quick', 'brown', 'fox', 'jumps', 'over',\n",
    "'the', 'lazy', 'dog']\n",
    "newwords = [i.lower() for i in words]\n",
    "newwords"
   ]
  },
  {
   "cell_type": "markdown",
   "id": "31df481b",
   "metadata": {},
   "source": [
    "# QUESTION 9c"
   ]
  },
  {
   "cell_type": "code",
   "execution_count": 11,
   "id": "9de74d96",
   "metadata": {},
   "outputs": [
    {
     "data": {
      "text/plain": [
       "[3, 5, 5, 3, 5, 4, 3, 4, 3]"
      ]
     },
     "execution_count": 11,
     "metadata": {},
     "output_type": "execute_result"
    }
   ],
   "source": [
    "words = ['The', 'quick', 'brown', 'fox', 'jumps', 'over',\n",
    "'the', 'lazy', 'dog']\n",
    "newwords = [len(i) for i in words]\n",
    "newwords"
   ]
  },
  {
   "cell_type": "markdown",
   "id": "23d17271",
   "metadata": {},
   "source": [
    "# QUESTION 9d"
   ]
  },
  {
   "cell_type": "code",
   "execution_count": 10,
   "id": "b4576a12",
   "metadata": {},
   "outputs": [
    {
     "name": "stdout",
     "output_type": "stream",
     "text": [
      "[('THE', 'the', 3), ('QUICK', 'quick', 5), ('BROWN', 'brown', 5), ('FOX', 'fox', 3), ('JUMPS', 'jumps', 5), ('OVER', 'over', 4), ('THE', 'the', 3), ('LAZY', 'lazy', 4), ('DOG', 'dog', 3)]"
     ]
    }
   ],
   "source": [
    "words = ['The', 'quick', 'brown', 'fox', 'jumps', 'over',\n",
    "'the', 'lazy', 'dog']\n",
    "newwords = [(i.upper(),i.lower(),len(i)) for i in words]\n",
    "print(newwords,end='')"
   ]
  },
  {
   "cell_type": "markdown",
   "id": "d7a1da79",
   "metadata": {},
   "source": [
    "# QUESTION 9e"
   ]
  },
  {
   "cell_type": "code",
   "execution_count": 12,
   "id": "62a6f8a1",
   "metadata": {},
   "outputs": [
    {
     "data": {
      "text/plain": [
       "['quick', 'brown', 'jumps', 'over', 'lazy']"
      ]
     },
     "execution_count": 12,
     "metadata": {},
     "output_type": "execute_result"
    }
   ],
   "source": [
    "words = ['The', 'quick', 'brown', 'fox', 'jumps', 'over',\n",
    "'the', 'lazy', 'dog']\n",
    "newwords = [i for i in words if len(i)>=4]\n",
    "newwords"
   ]
  }
 ],
 "metadata": {
  "kernelspec": {
   "display_name": "Python 3 (ipykernel)",
   "language": "python",
   "name": "python3"
  },
  "language_info": {
   "codemirror_mode": {
    "name": "ipython",
    "version": 3
   },
   "file_extension": ".py",
   "mimetype": "text/x-python",
   "name": "python",
   "nbconvert_exporter": "python",
   "pygments_lexer": "ipython3",
   "version": "3.9.7"
  }
 },
 "nbformat": 4,
 "nbformat_minor": 5
}
